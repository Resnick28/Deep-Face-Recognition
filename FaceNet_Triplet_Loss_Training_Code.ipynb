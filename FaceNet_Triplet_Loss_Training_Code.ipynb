{
  "cells": [
    {
      "cell_type": "code",
      "execution_count": 16,
      "metadata": {
        "colab": {
          "base_uri": "https://localhost:8080/"
        },
        "id": "pqWhMDyV-IjA",
        "outputId": "64a5ca9b-32b7-42f7-b280-510f3c53efe0"
      },
      "outputs": [
        {
          "name": "stdout",
          "output_type": "stream",
          "text": [
            "Looking in indexes: https://pypi.org/simple, https://us-python.pkg.dev/colab-wheels/public/simple/\n",
            "Requirement already satisfied: tensorflow-addons in /usr/local/lib/python3.8/dist-packages (0.19.0)\n",
            "Requirement already satisfied: packaging in /usr/local/lib/python3.8/dist-packages (from tensorflow-addons) (21.3)\n",
            "Requirement already satisfied: typeguard>=2.7 in /usr/local/lib/python3.8/dist-packages (from tensorflow-addons) (2.7.1)\n",
            "Requirement already satisfied: pyparsing!=3.0.5,>=2.0.2 in /usr/local/lib/python3.8/dist-packages (from packaging->tensorflow-addons) (3.0.9)\n",
            "Drive already mounted at /content/drive; to attempt to forcibly remount, call drive.mount(\"/content/drive\", force_remount=True).\n"
          ]
        }
      ],
      "source": [
        "!pip install -U tensorflow-addons\n",
        "import io\n",
        "import numpy as np\n",
        "import tensorflow as tf\n",
        "import tensorflow_addons as tfa\n",
        "\n",
        "import math\n",
        "import time\n",
        "from IPython.display import clear_output\n",
        "import matplotlib.pyplot as plt\n",
        "from google.colab import drive\n",
        "drive.mount('/content/drive')"
      ]
    },
    {
      "cell_type": "code",
      "execution_count": 17,
      "metadata": {
        "colab": {
          "base_uri": "https://localhost:8080/"
        },
        "id": "0Pn4JJ9j-UGx",
        "outputId": "982da5ea-76ef-4bce-cfe9-7577676bfcbf"
      },
      "outputs": [
        {
          "data": {
            "text/plain": [
              "[PhysicalDevice(name='/physical_device:GPU:0', device_type='GPU')]"
            ]
          },
          "execution_count": 17,
          "metadata": {},
          "output_type": "execute_result"
        }
      ],
      "source": [
        "physical_devices = tf.config.experimental.list_physical_devices('GPU')\n",
        "assert len(physical_devices) > 0, \"Not enough GPU hardware devices available\"\n",
        "config = tf.config.experimental.set_memory_growth(physical_devices[0], True)\n",
        "physical_devices"
      ]
    },
    {
      "cell_type": "code",
      "execution_count": 18,
      "metadata": {
        "id": "ZTpwrSA3bvoR"
      },
      "outputs": [],
      "source": [
        "tf.config.run_functions_eagerly(True)"
      ]
    },
    {
      "cell_type": "code",
      "execution_count": 19,
      "metadata": {
        "id": "zibrsbAr-XQ1"
      },
      "outputs": [],
      "source": [
        "def Resnet_preprocess(x):\n",
        "    #return tf.keras.applications.xception.preprocess_input(x)\n",
        "    return tf.keras.applications.resnet50.preprocess_input(x)"
      ]
    },
    {
      "cell_type": "code",
      "execution_count": null,
      "metadata": {
        "colab": {
          "base_uri": "https://localhost:8080/"
        },
        "id": "zzEcFd6WqKpT",
        "outputId": "cc841442-881e-4f26-e00c-b202643a464b"
      },
      "outputs": [],
      "source": [
        "! cp /content/drive/MyDrive/FaceNet/lfw-deepfunneled-aligned.tgz .\n",
        "! tar -xvzf lfw-deepfunneled-aligned.tgz"
      ]
    },
    {
      "cell_type": "code",
      "execution_count": 7,
      "metadata": {
        "colab": {
          "base_uri": "https://localhost:8080/"
        },
        "id": "9SkAIgmZ4BMK",
        "outputId": "a68b4ace-06f2-4b71-cdd8-e4a60f2d25c1"
      },
      "outputs": [
        {
          "name": "stdout",
          "output_type": "stream",
          "text": [
            "Found 13589 files belonging to 5749 classes.\n"
          ]
        },
        {
          "name": "stderr",
          "output_type": "stream",
          "text": [
            "/usr/local/lib/python3.8/dist-packages/tensorflow/python/data/ops/structured_function.py:264: UserWarning: Even though the `tf.config.experimental_run_functions_eagerly` option is set, this option does not apply to tf.data functions. To force eager execution of tf.data functions, please use `tf.data.experimental.enable_debug_mode()`.\n",
            "  warnings.warn(\n"
          ]
        }
      ],
      "source": [
        "train_ds = tf.keras.preprocessing.image_dataset_from_directory(\n",
        "  \"lfw-deepfunneled-aligned\",\n",
        "  seed=123,\n",
        "  image_size=(112, 112),\n",
        "  batch_size=100)"
      ]
    },
    {
      "cell_type": "code",
      "execution_count": 8,
      "metadata": {
        "id": "3gdfzdTLTPdM"
      },
      "outputs": [],
      "source": [
        "def get_model():\n",
        "\n",
        "    base_model = tf.keras.applications.ResNet50(\n",
        "        include_top=False,\n",
        "        weights=\"imagenet\",\n",
        "        input_shape = (112, 112, 3))\n",
        "\n",
        "    # Freeze the base model\n",
        "    base_model.trainable = False\n",
        "    model = tf.keras.Sequential()\n",
        "    model.add(base_model)\n",
        "    model.add(tf.keras.layers.GlobalAveragePooling2D())\n",
        "    model.add(tf.keras.layers.Flatten())\n",
        "    model.add(tf.keras.layers.Dense(512))\n",
        "    model.add(tf.keras.layers.Dense(512,activation=None))\n",
        "    model.add(tf.keras.layers.Lambda(lambda x: tf.math.l2_normalize(x, axis=1)))\n",
        "    return model\n",
        "\n",
        "def get_modelx():\n",
        "    \n",
        "    base_model = tf.keras.applications.Xception(\n",
        "            weights='imagenet',  # Load weights pre-trained on ImageNet.\n",
        "            input_shape=(112, 112, 3),\n",
        "            include_top=False) \n",
        "\n",
        "    # Freeze the base model\n",
        "    base_model.trainable = False\n",
        "    inputs = tf.keras.Input(shape=(112, 112, 3))\n",
        "    x = base_model(inputs, training=False)\n",
        "    x = tf.keras.layers.GlobalAveragePooling2D()(x)\n",
        "    x = tf.keras.layers.Flatten()(x)\n",
        "    x = tf.keras.layers.Dense(512)(x)\n",
        "    x = tf.keras.layers.Dense(512,activation=None)(x)\n",
        "    outputs = tf.keras.layers.Lambda(lambda x: tf.math.l2_normalize(x, axis=1))(x)\n",
        "    model = tf.keras.Model(inputs, outputs)\n",
        "    return model"
      ]
    },
    {
      "cell_type": "code",
      "execution_count": 9,
      "metadata": {
        "colab": {
          "base_uri": "https://localhost:8080/"
        },
        "id": "zFo516RnQD1E",
        "outputId": "a8220297-e673-4beb-92b3-798cfaa4a3f6"
      },
      "outputs": [
        {
          "name": "stdout",
          "output_type": "stream",
          "text": [
            "Downloading data from https://storage.googleapis.com/tensorflow/keras-applications/resnet/resnet50_weights_tf_dim_ordering_tf_kernels_notop.h5\n",
            "94765736/94765736 [==============================] - 5s 0us/step\n"
          ]
        }
      ],
      "source": [
        "model = get_model()"
      ]
    },
    {
      "cell_type": "code",
      "execution_count": 10,
      "metadata": {
        "colab": {
          "base_uri": "https://localhost:8080/"
        },
        "id": "26W6elf2XGyh",
        "outputId": "dd689c22-5fbc-4cb1-8b98-2a0fc996ac71"
      },
      "outputs": [
        {
          "name": "stdout",
          "output_type": "stream",
          "text": [
            "Model: \"sequential\"\n",
            "_________________________________________________________________\n",
            " Layer (type)                Output Shape              Param #   \n",
            "=================================================================\n",
            " resnet50 (Functional)       (None, 4, 4, 2048)        23587712  \n",
            "                                                                 \n",
            " global_average_pooling2d (G  (None, 2048)             0         \n",
            " lobalAveragePooling2D)                                          \n",
            "                                                                 \n",
            " flatten (Flatten)           (None, 2048)              0         \n",
            "                                                                 \n",
            " dense (Dense)               (None, 512)               1049088   \n",
            "                                                                 \n",
            " dense_1 (Dense)             (None, 512)               262656    \n",
            "                                                                 \n",
            " lambda (Lambda)             (None, 512)               0         \n",
            "                                                                 \n",
            "=================================================================\n",
            "Total params: 24,899,456\n",
            "Trainable params: 1,311,744\n",
            "Non-trainable params: 23,587,712\n",
            "_________________________________________________________________\n"
          ]
        }
      ],
      "source": [
        "model.summary()"
      ]
    },
    {
      "cell_type": "code",
      "execution_count": 11,
      "metadata": {
        "colab": {
          "base_uri": "https://localhost:8080/"
        },
        "id": "OWmdetSlGnal",
        "outputId": "277ebec0-1be2-48db-bb21-66a7c9960700"
      },
      "outputs": [
        {
          "name": "stdout",
          "output_type": "stream",
          "text": [
            "<keras.engine.functional.Functional object at 0x7fdda0e41400>\n"
          ]
        }
      ],
      "source": [
        "print(model.layers[:-1][0])"
      ]
    },
    {
      "cell_type": "code",
      "execution_count": 12,
      "metadata": {
        "colab": {
          "base_uri": "https://localhost:8080/"
        },
        "id": "YFY1NygG62Um",
        "outputId": "c2383958-7c21-49d8-b56c-67e48feae2b5"
      },
      "outputs": [
        {
          "name": "stdout",
          "output_type": "stream",
          "text": [
            "<keras.engine.functional.Functional object at 0x7fdda0e41400>\n",
            "<keras.layers.pooling.global_average_pooling2d.GlobalAveragePooling2D object at 0x7fdda0f8b9a0>\n",
            "<keras.layers.reshaping.flatten.Flatten object at 0x7fdda0d6c280>\n",
            "<keras.layers.core.dense.Dense object at 0x7fddb883bc40>\n",
            "<keras.layers.core.dense.Dense object at 0x7fdda0ff67c0>\n"
          ]
        }
      ],
      "source": [
        "for layer in model.layers[:-1]:\n",
        "  print(layer)"
      ]
    },
    {
      "cell_type": "code",
      "execution_count": null,
      "metadata": {
        "colab": {
          "base_uri": "https://localhost:8080/"
        },
        "id": "8x6ARHlmGiBB",
        "outputId": "0c66799a-2705-4b18-eabf-178adbf9a40f"
      },
      "outputs": [],
      "source": [
        "layer = model.layers[:-1][0]\n",
        "layer_weights_values = layer.get_weights()\n",
        "print(layer_weights_values)"
      ]
    },
    {
      "cell_type": "code",
      "execution_count": null,
      "metadata": {
        "id": "oCcRpOQ2VOTm"
      },
      "outputs": [],
      "source": [
        "#to load a existing weight file and continue training\n",
        "epochs = 0\n",
        "reg_coef = 1.0\n",
        "\n",
        "file_name = '/content/drive/MyDrive/FaceNet/checkpoint/tripletloss/model_weights_'\n",
        "file_number = 1\n",
        "file_name = file_name + str(file_number*epochs)+ '_epochs'\n",
        "model = tf.keras.models.load_model(file_name)\n",
        "print(file_name)"
      ]
    },
    {
      "cell_type": "code",
      "execution_count": 21,
      "metadata": {
        "id": "rKr0s4goFlil"
      },
      "outputs": [],
      "source": [
        "# Instantiate an optimizer to train the model.\n",
        "lr = 0.001\n",
        "optimizer = tf.keras.optimizers.Adam(lr)"
      ]
    },
    {
      "cell_type": "code",
      "execution_count": 22,
      "metadata": {
        "id": "13cZNRhgGEuY"
      },
      "outputs": [],
      "source": [
        "# Compile the model\n",
        "model.compile(\n",
        "    optimizer=optimizer,\n",
        "    loss=tfa.losses.TripletSemiHardLoss())"
      ]
    },
    {
      "cell_type": "code",
      "execution_count": 26,
      "metadata": {
        "id": "Gq3dNCvaieOb"
      },
      "outputs": [],
      "source": [
        "from keras.callbacks import Callback\n",
        "class WeightsSaver(Callback):\n",
        "  def __init__(self, N):\n",
        "    self.N = N\n",
        "    self.epoch = 0\n",
        "\n",
        "  def on_epoch_end(self, epoch, logs={}):\n",
        "    if self.epoch % self.N == 0:\n",
        "      file_name = '/content/drive/MyDrive/FaceNet/checkpoint/model_weights_'\n",
        "      file_name = file_name + str(self.epoch)+ '_epochs'\n",
        "      model.save(file_name)\n",
        "      name = 'weights%08d.h5' % self.epoch\n",
        "      self.model.save_weights(name)\n",
        "    self.epoch += 1"
      ]
    },
    {
      "cell_type": "code",
      "execution_count": 27,
      "metadata": {
        "colab": {
          "base_uri": "https://localhost:8080/"
        },
        "id": "U5egd-bvRaig",
        "outputId": "f5a1ee8f-0925-4426-b184-c15c2fe20d91"
      },
      "outputs": [
        {
          "name": "stdout",
          "output_type": "stream",
          "text": [
            "Epoch 1/10\n",
            "136/136 [==============================] - ETA: 0s - loss: 0.9474"
          ]
        },
        {
          "name": "stderr",
          "output_type": "stream",
          "text": [
            "WARNING:absl:Found untraced functions such as _jit_compiled_convolution_op, _jit_compiled_convolution_op, _jit_compiled_convolution_op, _jit_compiled_convolution_op, _jit_compiled_convolution_op while saving (showing 5 of 53). These functions will not be directly callable after loading.\n"
          ]
        },
        {
          "name": "stdout",
          "output_type": "stream",
          "text": [
            "\b\b\b\b\b\b\b\b\b\b\b\b\b\b\b\b\b\b\b\b\b\b\b\b\b\b\b\b\b\b\b\b\b\b\b\b\b\b\b\b\b\b\b\b\b\b\b\b\b\b\b\b\b\b\b\b\b\b\b\b\b\b\b\b\b\r136/136 [==============================] - 68s 497ms/step - loss: 0.9474\n",
            "Epoch 2/10\n",
            "136/136 [==============================] - ETA: 0s - loss: 0.9446"
          ]
        },
        {
          "name": "stderr",
          "output_type": "stream",
          "text": [
            "WARNING:absl:Found untraced functions such as _jit_compiled_convolution_op, _jit_compiled_convolution_op, _jit_compiled_convolution_op, _jit_compiled_convolution_op, _jit_compiled_convolution_op while saving (showing 5 of 53). These functions will not be directly callable after loading.\n"
          ]
        },
        {
          "name": "stdout",
          "output_type": "stream",
          "text": [
            "\b\b\b\b\b\b\b\b\b\b\b\b\b\b\b\b\b\b\b\b\b\b\b\b\b\b\b\b\b\b\b\b\b\b\b\b\b\b\b\b\b\b\b\b\b\b\b\b\b\b\b\b\b\b\b\b\b\b\b\b\b\b\b\b\b\r136/136 [==============================] - 69s 508ms/step - loss: 0.9446\n",
            "Epoch 3/10\n",
            "136/136 [==============================] - ETA: 0s - loss: 0.9101"
          ]
        },
        {
          "name": "stderr",
          "output_type": "stream",
          "text": [
            "WARNING:absl:Found untraced functions such as _jit_compiled_convolution_op, _jit_compiled_convolution_op, _jit_compiled_convolution_op, _jit_compiled_convolution_op, _jit_compiled_convolution_op while saving (showing 5 of 53). These functions will not be directly callable after loading.\n"
          ]
        },
        {
          "name": "stdout",
          "output_type": "stream",
          "text": [
            "\b\b\b\b\b\b\b\b\b\b\b\b\b\b\b\b\b\b\b\b\b\b\b\b\b\b\b\b\b\b\b\b\b\b\b\b\b\b\b\b\b\b\b\b\b\b\b\b\b\b\b\b\b\b\b\b\b\b\b\b\b\b\b\b\b\r136/136 [==============================] - 68s 497ms/step - loss: 0.9101\n",
            "Epoch 4/10\n",
            "136/136 [==============================] - ETA: 0s - loss: 0.8873"
          ]
        },
        {
          "name": "stderr",
          "output_type": "stream",
          "text": [
            "WARNING:absl:Found untraced functions such as _jit_compiled_convolution_op, _jit_compiled_convolution_op, _jit_compiled_convolution_op, _jit_compiled_convolution_op, _jit_compiled_convolution_op while saving (showing 5 of 53). These functions will not be directly callable after loading.\n"
          ]
        },
        {
          "name": "stdout",
          "output_type": "stream",
          "text": [
            "\b\b\b\b\b\b\b\b\b\b\b\b\b\b\b\b\b\b\b\b\b\b\b\b\b\b\b\b\b\b\b\b\b\b\b\b\b\b\b\b\b\b\b\b\b\b\b\b\b\b\b\b\b\b\b\b\b\b\b\b\b\b\b\b\b\r136/136 [==============================] - 68s 503ms/step - loss: 0.8873\n",
            "Epoch 5/10\n",
            "136/136 [==============================] - ETA: 0s - loss: 0.8557"
          ]
        },
        {
          "name": "stderr",
          "output_type": "stream",
          "text": [
            "WARNING:absl:Found untraced functions such as _jit_compiled_convolution_op, _jit_compiled_convolution_op, _jit_compiled_convolution_op, _jit_compiled_convolution_op, _jit_compiled_convolution_op while saving (showing 5 of 53). These functions will not be directly callable after loading.\n"
          ]
        },
        {
          "name": "stdout",
          "output_type": "stream",
          "text": [
            "\b\b\b\b\b\b\b\b\b\b\b\b\b\b\b\b\b\b\b\b\b\b\b\b\b\b\b\b\b\b\b\b\b\b\b\b\b\b\b\b\b\b\b\b\b\b\b\b\b\b\b\b\b\b\b\b\b\b\b\b\b\b\b\b\b\r136/136 [==============================] - 69s 504ms/step - loss: 0.8557\n",
            "Epoch 6/10\n",
            "136/136 [==============================] - ETA: 0s - loss: 0.8571"
          ]
        },
        {
          "name": "stderr",
          "output_type": "stream",
          "text": [
            "WARNING:absl:Found untraced functions such as _jit_compiled_convolution_op, _jit_compiled_convolution_op, _jit_compiled_convolution_op, _jit_compiled_convolution_op, _jit_compiled_convolution_op while saving (showing 5 of 53). These functions will not be directly callable after loading.\n"
          ]
        },
        {
          "name": "stdout",
          "output_type": "stream",
          "text": [
            "\b\b\b\b\b\b\b\b\b\b\b\b\b\b\b\b\b\b\b\b\b\b\b\b\b\b\b\b\b\b\b\b\b\b\b\b\b\b\b\b\b\b\b\b\b\b\b\b\b\b\b\b\b\b\b\b\b\b\b\b\b\b\b\b\b\r136/136 [==============================] - 68s 500ms/step - loss: 0.8571\n",
            "Epoch 7/10\n",
            "136/136 [==============================] - ETA: 0s - loss: 0.8371"
          ]
        },
        {
          "name": "stderr",
          "output_type": "stream",
          "text": [
            "WARNING:absl:Found untraced functions such as _jit_compiled_convolution_op, _jit_compiled_convolution_op, _jit_compiled_convolution_op, _jit_compiled_convolution_op, _jit_compiled_convolution_op while saving (showing 5 of 53). These functions will not be directly callable after loading.\n"
          ]
        },
        {
          "name": "stdout",
          "output_type": "stream",
          "text": [
            "\b\b\b\b\b\b\b\b\b\b\b\b\b\b\b\b\b\b\b\b\b\b\b\b\b\b\b\b\b\b\b\b\b\b\b\b\b\b\b\b\b\b\b\b\b\b\b\b\b\b\b\b\b\b\b\b\b\b\b\b\b\b\b\b\b\r136/136 [==============================] - 68s 503ms/step - loss: 0.8371\n",
            "Epoch 8/10\n",
            "136/136 [==============================] - ETA: 0s - loss: nan"
          ]
        },
        {
          "name": "stderr",
          "output_type": "stream",
          "text": [
            "WARNING:absl:Found untraced functions such as _jit_compiled_convolution_op, _jit_compiled_convolution_op, _jit_compiled_convolution_op, _jit_compiled_convolution_op, _jit_compiled_convolution_op while saving (showing 5 of 53). These functions will not be directly callable after loading.\n"
          ]
        },
        {
          "name": "stdout",
          "output_type": "stream",
          "text": [
            "\b\b\b\b\b\b\b\b\b\b\b\b\b\b\b\b\b\b\b\b\b\b\b\b\b\b\b\b\b\b\b\b\b\b\b\b\b\b\b\b\b\b\b\b\b\b\b\b\b\b\b\b\b\b\b\b\b\b\b\b\b\b\r136/136 [==============================] - 68s 498ms/step - loss: nan\n",
            "Epoch 9/10\n",
            "136/136 [==============================] - ETA: 0s - loss: nan"
          ]
        },
        {
          "name": "stderr",
          "output_type": "stream",
          "text": [
            "WARNING:absl:Found untraced functions such as _jit_compiled_convolution_op, _jit_compiled_convolution_op, _jit_compiled_convolution_op, _jit_compiled_convolution_op, _jit_compiled_convolution_op while saving (showing 5 of 53). These functions will not be directly callable after loading.\n"
          ]
        },
        {
          "name": "stdout",
          "output_type": "stream",
          "text": [
            "\b\b\b\b\b\b\b\b\b\b\b\b\b\b\b\b\b\b\b\b\b\b\b\b\b\b\b\b\b\b\b\b\b\b\b\b\b\b\b\b\b\b\b\b\b\b\b\b\b\b\b\b\b\b\b\b\b\b\b\b\b\b\r136/136 [==============================] - 69s 507ms/step - loss: nan\n",
            "Epoch 10/10\n",
            "136/136 [==============================] - ETA: 0s - loss: nan"
          ]
        },
        {
          "name": "stderr",
          "output_type": "stream",
          "text": [
            "WARNING:absl:Found untraced functions such as _jit_compiled_convolution_op, _jit_compiled_convolution_op, _jit_compiled_convolution_op, _jit_compiled_convolution_op, _jit_compiled_convolution_op while saving (showing 5 of 53). These functions will not be directly callable after loading.\n"
          ]
        },
        {
          "name": "stdout",
          "output_type": "stream",
          "text": [
            "\b\b\b\b\b\b\b\b\b\b\b\b\b\b\b\b\b\b\b\b\b\b\b\b\b\b\b\b\b\b\b\b\b\b\b\b\b\b\b\b\b\b\b\b\b\b\b\b\b\b\b\b\b\b\b\b\b\b\b\b\b\b\r136/136 [==============================] - 69s 505ms/step - loss: nan\n"
          ]
        }
      ],
      "source": [
        "epochs = 10\n",
        "reg_coef = 1.0\n",
        "file_number = 0\n",
        "\n",
        "history = model.fit(\n",
        "    train_ds,\n",
        "    epochs=epochs,\n",
        "    callbacks=[WeightsSaver(1)])"
      ]
    },
    {
      "cell_type": "code",
      "execution_count": 28,
      "metadata": {
        "colab": {
          "base_uri": "https://localhost:8080/"
        },
        "id": "Oy6CyIFDpkpy",
        "outputId": "adcd6402-07f0-47aa-c508-0a2e2a290485"
      },
      "outputs": [
        {
          "name": "stdout",
          "output_type": "stream",
          "text": [
            "{'loss': [0.9473838210105896, 0.9445924758911133, 0.9101294279098511, 0.88733971118927, 0.8557479381561279, 0.8571360111236572, 0.8371464610099792, nan, nan, nan]}\n"
          ]
        }
      ],
      "source": [
        "print(history.history)"
      ]
    },
    {
      "cell_type": "code",
      "execution_count": 29,
      "metadata": {
        "colab": {
          "base_uri": "https://localhost:8080/",
          "height": 295
        },
        "id": "4VHA15sMkgHh",
        "outputId": "d1b68ebf-2883-485d-f499-9e5f26676ab1"
      },
      "outputs": [
        {
          "data": {
            "image/png": "[encoded data removed]",
            "text/plain": [
              "<Figure size 432x288 with 1 Axes>"
            ]
          },
          "metadata": {
            "needs_background": "light"
          },
          "output_type": "display_data"
        }
      ],
      "source": [
        "plt.plot(history.history['loss'])\n",
        "plt.title('basic model loss curve')\n",
        "plt.ylabel('training loss')\n",
        "plt.xlabel('epoch')\n",
        "plt.legend(['trainloss'], loc='upper right')\n",
        "plt.show()"
      ]
    }
  ],
  "metadata": {
    "accelerator": "GPU",
    "colab": {
      "provenance": []
    },
    "gpuClass": "standard",
    "kernelspec": {
      "display_name": "Python 3 (ipykernel)",
      "language": "python",
      "name": "python3"
    },
    "language_info": {
      "codemirror_mode": {
        "name": "ipython",
        "version": 3
      },
      "file_extension": ".py",
      "mimetype": "text/x-python",
      "name": "python",
      "nbconvert_exporter": "python",
      "pygments_lexer": "ipython3",
      "version": "3.9.7"
    }
  },
  "nbformat": 4,
  "nbformat_minor": 0
}
